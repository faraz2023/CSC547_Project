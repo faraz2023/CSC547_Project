{
  "nbformat": 4,
  "nbformat_minor": 0,
  "metadata": {
    "colab": {
      "name": "CSC2547_Proj_BaseDDPG.ipynb",
      "provenance": [],
      "machine_shape": "hm",
      "authorship_tag": "ABX9TyN/XTGruL9OExxKU0NXZ4PP",
      "include_colab_link": true
    },
    "kernelspec": {
      "name": "python3",
      "display_name": "Python 3"
    },
    "language_info": {
      "name": "python"
    },
    "accelerator": "GPU"
  },
  "cells": [
    {
      "cell_type": "markdown",
      "metadata": {
        "id": "view-in-github",
        "colab_type": "text"
      },
      "source": [
        "<a href=\"https://colab.research.google.com/github/faraz2023/CSC547_Project/blob/main/CSC2547_Proj_BaseDDPG.ipynb\" target=\"_parent\"><img src=\"https://colab.research.google.com/assets/colab-badge.svg\" alt=\"Open In Colab\"/></a>"
      ]
    },
    {
      "cell_type": "code",
      "metadata": {
        "colab": {
          "base_uri": "https://localhost:8080/"
        },
        "id": "37elhUYkg0GS",
        "outputId": "2fc8b78f-1677-4c62-b5e0-ab8762ecc029"
      },
      "source": [
        "!pip install box2d-py\n",
        "!pip install gym[Box_2D]\n",
        "\n"
      ],
      "execution_count": 4,
      "outputs": [
        {
          "output_type": "stream",
          "text": [
            "Requirement already satisfied: box2d-py in /usr/local/lib/python3.7/dist-packages (2.3.8)\n",
            "Requirement already satisfied: gym[Box_2D] in /usr/local/lib/python3.7/dist-packages (0.17.3)\n",
            "\u001b[33m  WARNING: gym 0.17.3 does not provide the extra 'box_2d'\u001b[0m\n",
            "Requirement already satisfied: scipy in /usr/local/lib/python3.7/dist-packages (from gym[Box_2D]) (1.4.1)\n",
            "Requirement already satisfied: pyglet<=1.5.0,>=1.4.0 in /usr/local/lib/python3.7/dist-packages (from gym[Box_2D]) (1.5.0)\n",
            "Requirement already satisfied: numpy>=1.10.4 in /usr/local/lib/python3.7/dist-packages (from gym[Box_2D]) (1.19.5)\n",
            "Requirement already satisfied: cloudpickle<1.7.0,>=1.2.0 in /usr/local/lib/python3.7/dist-packages (from gym[Box_2D]) (1.3.0)\n",
            "Requirement already satisfied: future in /usr/local/lib/python3.7/dist-packages (from pyglet<=1.5.0,>=1.4.0->gym[Box_2D]) (0.16.0)\n"
          ],
          "name": "stdout"
        }
      ]
    },
    {
      "cell_type": "code",
      "metadata": {
        "id": "uc34ie1PdRTj"
      },
      "source": [
        "import matplotlib.pyplot as plt \n",
        "import os\n",
        "import torch as T\n",
        "import torch.nn as nn\n",
        "import torch.nn.functional as F\n",
        "import torch.optim as optim\n",
        "import numpy as np\n",
        "import gym\n",
        "import numpy as np\n"
      ],
      "execution_count": 5,
      "outputs": []
    },
    {
      "cell_type": "code",
      "metadata": {
        "id": "27qqPyzCgl-x"
      },
      "source": [
        ""
      ],
      "execution_count": 5,
      "outputs": []
    },
    {
      "cell_type": "markdown",
      "metadata": {
        "id": "qqDay6SodwQh"
      },
      "source": [
        "# Utilities "
      ]
    },
    {
      "cell_type": "code",
      "metadata": {
        "id": "DEi3wXHndkqj"
      },
      "source": [
        "def plotLearning(scores, filename, x=None, window=5):   \n",
        "    N = len(scores)\n",
        "    running_avg = np.empty(N)\n",
        "    for t in range(N):\n",
        "\t    running_avg[t] = np.mean(scores[max(0, t-window):(t+1)])\n",
        "    if x is None:\n",
        "        x = [i for i in range(N)]\n",
        "    plt.ylabel('Score')       \n",
        "    plt.xlabel('Game')                     \n",
        "    plt.plot(x, running_avg)\n",
        "    plt.savefig(filename)\n",
        "\n",
        "def make_dir(path):\n",
        "  try: os.mkdir(path)\n",
        "  except: pass"
      ],
      "execution_count": 6,
      "outputs": []
    },
    {
      "cell_type": "markdown",
      "metadata": {
        "id": "aImk6ki3d1y9"
      },
      "source": [
        "# DDPG Implementation in PyTorch"
      ]
    },
    {
      "cell_type": "markdown",
      "metadata": {
        "id": "oZvTlRPCd8xc"
      },
      "source": [
        "## Class for Ornstein-Uhlenbeck Action Noise"
      ]
    },
    {
      "cell_type": "code",
      "metadata": {
        "id": "0mutjwgZd1UE"
      },
      "source": [
        "class OUActionNoise(object):\n",
        "    def __init__(self, mu, sigma=0.15, theta=.2, dt=1e-2, x0=None):\n",
        "        self.theta = theta\n",
        "        self.mu = mu\n",
        "        self.sigma = sigma\n",
        "        self.dt = dt\n",
        "        self.x0 = x0\n",
        "        self.reset()\n",
        "\n",
        "    def __call__(self):\n",
        "        x = self.x_prev + self.theta * (self.mu - self.x_prev) * self.dt + \\\n",
        "            self.sigma * np.sqrt(self.dt) * np.random.normal(size=self.mu.shape)\n",
        "        self.x_prev = x\n",
        "        return x\n",
        "\n",
        "    def reset(self):\n",
        "        self.x_prev = self.x0 if self.x0 is not None else np.zeros_like(self.mu)\n",
        "\n",
        "    def __repr__(self):\n",
        "        return 'OrnsteinUhlenbeckActionNoise(mu={}, sigma={})'.format(\n",
        "                                                            self.mu, self.sigma)"
      ],
      "execution_count": 7,
      "outputs": []
    },
    {
      "cell_type": "markdown",
      "metadata": {
        "id": "zOzUWffTeF-7"
      },
      "source": [
        "## Class for Reply Buffer"
      ]
    },
    {
      "cell_type": "code",
      "metadata": {
        "id": "-Hu8f7DIdyDa"
      },
      "source": [
        "class ReplayBuffer(object):\n",
        "    def __init__(self, max_size, input_shape, n_actions):\n",
        "        self.mem_size = max_size\n",
        "        self.mem_cntr = 0\n",
        "        self.state_memory = np.zeros((self.mem_size, *input_shape))\n",
        "        self.new_state_memory = np.zeros((self.mem_size, *input_shape))\n",
        "        self.action_memory = np.zeros((self.mem_size, n_actions))\n",
        "        self.reward_memory = np.zeros(self.mem_size)\n",
        "        self.terminal_memory = np.zeros(self.mem_size, dtype=np.float32)\n",
        "\n",
        "    def store_transition(self, state, action, reward, state_, done):\n",
        "        index = self.mem_cntr % self.mem_size\n",
        "        self.state_memory[index] = state\n",
        "        self.new_state_memory[index] = state_\n",
        "        self.action_memory[index] = action\n",
        "        self.reward_memory[index] = reward\n",
        "        self.terminal_memory[index] = 1 - done\n",
        "        self.mem_cntr += 1\n",
        "\n",
        "    def sample_buffer(self, batch_size):\n",
        "        max_mem = min(self.mem_cntr, self.mem_size)\n",
        "\n",
        "        batch = np.random.choice(max_mem, batch_size)\n",
        "\n",
        "        states = self.state_memory[batch]\n",
        "        actions = self.action_memory[batch]\n",
        "        rewards = self.reward_memory[batch]\n",
        "        states_ = self.new_state_memory[batch]\n",
        "        terminal = self.terminal_memory[batch]\n",
        "\n",
        "        return states, actions, rewards, states_, terminal"
      ],
      "execution_count": 8,
      "outputs": []
    },
    {
      "cell_type": "markdown",
      "metadata": {
        "id": "pGjLWx8deimW"
      },
      "source": [
        "## Critic Network\n"
      ]
    },
    {
      "cell_type": "code",
      "metadata": {
        "id": "ncyzMuaieL7L"
      },
      "source": [
        "class CriticNetwork(nn.Module):\n",
        "    def __init__(self, beta, input_dims, fc1_dims, fc2_dims, n_actions, name,\n",
        "                 chkpt_dir='tmp/ddpg'):\n",
        "        super(CriticNetwork, self).__init__()\n",
        "        self.input_dims = input_dims\n",
        "        self.fc1_dims = fc1_dims\n",
        "        self.fc2_dims = fc2_dims\n",
        "        self.n_actions = n_actions\n",
        "        self.checkpoint_file = os.path.join(chkpt_dir,name+'_ddpg')\n",
        "        self.fc1 = nn.Linear(*self.input_dims, self.fc1_dims)\n",
        "        f1 = 1./np.sqrt(self.fc1.weight.data.size()[0])\n",
        "        T.nn.init.uniform_(self.fc1.weight.data, -f1, f1)\n",
        "        T.nn.init.uniform_(self.fc1.bias.data, -f1, f1)\n",
        "        #self.fc1.weight.data.uniform_(-f1, f1)\n",
        "        #self.fc1.bias.data.uniform_(-f1, f1)\n",
        "        self.bn1 = nn.LayerNorm(self.fc1_dims)\n",
        "\n",
        "        self.fc2 = nn.Linear(self.fc1_dims, self.fc2_dims)\n",
        "        f2 = 1./np.sqrt(self.fc2.weight.data.size()[0])\n",
        "        #f2 = 0.002\n",
        "        T.nn.init.uniform_(self.fc2.weight.data, -f2, f2)\n",
        "        T.nn.init.uniform_(self.fc2.bias.data, -f2, f2)\n",
        "        #self.fc2.weight.data.uniform_(-f2, f2)\n",
        "        #self.fc2.bias.data.uniform_(-f2, f2)\n",
        "        self.bn2 = nn.LayerNorm(self.fc2_dims)\n",
        "\n",
        "        self.action_value = nn.Linear(self.n_actions, self.fc2_dims)\n",
        "        f3 = 0.003\n",
        "        self.q = nn.Linear(self.fc2_dims, 1)\n",
        "        T.nn.init.uniform_(self.q.weight.data, -f3, f3)\n",
        "        T.nn.init.uniform_(self.q.bias.data, -f3, f3)\n",
        "        #self.q.weight.data.uniform_(-f3, f3)\n",
        "        #self.q.bias.data.uniform_(-f3, f3)\n",
        "\n",
        "        self.optimizer = optim.Adam(self.parameters(), lr=beta)\n",
        "        self.device = T.device('cuda:0' if T.cuda.is_available() else 'cuda:1')\n",
        "\n",
        "        self.to(self.device)\n",
        "\n",
        "    def forward(self, state, action):\n",
        "        state_value = self.fc1(state)\n",
        "        state_value = self.bn1(state_value)\n",
        "        state_value = F.relu(state_value)\n",
        "        state_value = self.fc2(state_value)\n",
        "        state_value = self.bn2(state_value)\n",
        "\n",
        "        action_value = F.relu(self.action_value(action))\n",
        "        state_action_value = F.relu(T.add(state_value, action_value))\n",
        "        state_action_value = self.q(state_action_value)\n",
        "\n",
        "        return state_action_value\n",
        "\n",
        "    def save_checkpoint(self):\n",
        "        print('... saving checkpoint ...')\n",
        "        T.save(self.state_dict(), self.checkpoint_file)\n",
        "\n",
        "    def load_checkpoint(self):\n",
        "        print('... loading checkpoint ...')\n",
        "        self.load_state_dict(T.load(self.checkpoint_file))"
      ],
      "execution_count": 9,
      "outputs": []
    },
    {
      "cell_type": "markdown",
      "metadata": {
        "id": "L93vOoacewF3"
      },
      "source": [
        "## Actor Network"
      ]
    },
    {
      "cell_type": "code",
      "metadata": {
        "id": "_Mcs48aVelRc"
      },
      "source": [
        "class ActorNetwork(nn.Module):\n",
        "    def __init__(self, alpha, input_dims, fc1_dims, fc2_dims, n_actions, name,\n",
        "                 chkpt_dir='tmp/ddpg'):\n",
        "        super(ActorNetwork, self).__init__()\n",
        "        self.input_dims = input_dims\n",
        "        self.fc1_dims = fc1_dims\n",
        "        self.fc2_dims = fc2_dims\n",
        "        self.n_actions = n_actions\n",
        "        self.checkpoint_file = os.path.join(chkpt_dir,name+'_ddpg')\n",
        "        self.fc1 = nn.Linear(*self.input_dims, self.fc1_dims)\n",
        "        f1 = 1./np.sqrt(self.fc1.weight.data.size()[0])\n",
        "        T.nn.init.uniform_(self.fc1.weight.data, -f1, f1)\n",
        "        T.nn.init.uniform_(self.fc1.bias.data, -f1, f1)\n",
        "        #self.fc1.weight.data.uniform_(-f1, f1)\n",
        "        #self.fc1.bias.data.uniform_(-f1, f1)\n",
        "        self.bn1 = nn.LayerNorm(self.fc1_dims)\n",
        "\n",
        "        self.fc2 = nn.Linear(self.fc1_dims, self.fc2_dims)\n",
        "        #f2 = 0.002\n",
        "        f2 = 1./np.sqrt(self.fc2.weight.data.size()[0])\n",
        "        T.nn.init.uniform_(self.fc2.weight.data, -f2, f2)\n",
        "        T.nn.init.uniform_(self.fc2.bias.data, -f2, f2)\n",
        "        #self.fc2.weight.data.uniform_(-f2, f2)\n",
        "        #self.fc2.bias.data.uniform_(-f2, f2)\n",
        "        self.bn2 = nn.LayerNorm(self.fc2_dims)\n",
        "\n",
        "        #f3 = 0.004\n",
        "        f3 = 0.003\n",
        "        self.mu = nn.Linear(self.fc2_dims, self.n_actions)\n",
        "        T.nn.init.uniform_(self.mu.weight.data, -f3, f3)\n",
        "        T.nn.init.uniform_(self.mu.bias.data, -f3, f3)\n",
        "        #self.mu.weight.data.uniform_(-f3, f3)\n",
        "        #self.mu.bias.data.uniform_(-f3, f3)\n",
        "\n",
        "        self.optimizer = optim.Adam(self.parameters(), lr=alpha)\n",
        "        self.device = T.device('cuda:0' if T.cuda.is_available() else 'cuda:1')\n",
        "\n",
        "        self.to(self.device)\n",
        "\n",
        "    def forward(self, state):\n",
        "        x = self.fc1(state)\n",
        "        x = self.bn1(x)\n",
        "        x = F.relu(x)\n",
        "        x = self.fc2(x)\n",
        "        x = self.bn2(x)\n",
        "        x = F.relu(x)\n",
        "        x = T.tanh(self.mu(x))\n",
        "\n",
        "        return x\n",
        "\n",
        "    def save_checkpoint(self):\n",
        "        print('... saving checkpoint ...')\n",
        "        T.save(self.state_dict(), self.checkpoint_file)\n",
        "\n",
        "    def load_checkpoint(self):\n",
        "        print('... loading checkpoint ...')\n",
        "        self.load_state_dict(T.load(self.checkpoint_file))"
      ],
      "execution_count": 10,
      "outputs": []
    },
    {
      "cell_type": "markdown",
      "metadata": {
        "id": "O6Ad4iEafD_U"
      },
      "source": [
        "## Agent"
      ]
    },
    {
      "cell_type": "code",
      "metadata": {
        "id": "PiFW6XSFexfZ"
      },
      "source": [
        "class Agent(object):\n",
        "    def __init__(self, alpha, beta, input_dims, tau, env, gamma=0.99,\n",
        "                 n_actions=2, max_size=1000000, layer1_size=400,\n",
        "                 layer2_size=300, batch_size=64, chkpt_dir='exp'):\n",
        "        self.gamma = gamma\n",
        "        self.tau = tau\n",
        "        self.memory = ReplayBuffer(max_size, input_dims, n_actions)\n",
        "        self.batch_size = batch_size\n",
        "\n",
        "        self.actor = ActorNetwork(alpha, input_dims, layer1_size,\n",
        "                                  layer2_size, n_actions=n_actions,\n",
        "                                  name='Actor', chkpt_dir=chkpt_dir)\n",
        "        self.critic = CriticNetwork(beta, input_dims, layer1_size,\n",
        "                                    layer2_size, n_actions=n_actions,\n",
        "                                    name='Critic', chkpt_dir=chkpt_dir)\n",
        "\n",
        "        self.target_actor = ActorNetwork(alpha, input_dims, layer1_size,\n",
        "                                         layer2_size, n_actions=n_actions,\n",
        "                                         name='TargetActor', chkpt_dir=chkpt_dir)\n",
        "        self.target_critic = CriticNetwork(beta, input_dims, layer1_size,\n",
        "                                           layer2_size, n_actions=n_actions,\n",
        "                                           name='TargetCritic', chkpt_dir=chkpt_dir)\n",
        "\n",
        "        self.noise = OUActionNoise(mu=np.zeros(n_actions))\n",
        "\n",
        "        self.update_network_parameters(tau=1)\n",
        "\n",
        "    def choose_action(self, observation):\n",
        "        self.actor.eval()\n",
        "        observation = T.tensor(observation, dtype=T.float).to(self.actor.device)\n",
        "        mu = self.actor.forward(observation).to(self.actor.device)\n",
        "        mu_prime = mu + T.tensor(self.noise(),\n",
        "                                 dtype=T.float).to(self.actor.device)\n",
        "        self.actor.train()\n",
        "        return mu_prime.cpu().detach().numpy()\n",
        "\n",
        "\n",
        "    def remember(self, state, action, reward, new_state, done):\n",
        "        self.memory.store_transition(state, action, reward, new_state, done)\n",
        "\n",
        "    def learn(self):\n",
        "        if self.memory.mem_cntr < self.batch_size:\n",
        "            return\n",
        "        state, action, reward, new_state, done = \\\n",
        "                                      self.memory.sample_buffer(self.batch_size)\n",
        "\n",
        "        reward = T.tensor(reward, dtype=T.float).to(self.critic.device)\n",
        "        done = T.tensor(done).to(self.critic.device)\n",
        "        new_state = T.tensor(new_state, dtype=T.float).to(self.critic.device)\n",
        "        action = T.tensor(action, dtype=T.float).to(self.critic.device)\n",
        "        state = T.tensor(state, dtype=T.float).to(self.critic.device)\n",
        "\n",
        "        self.target_actor.eval()\n",
        "        self.target_critic.eval()\n",
        "        self.critic.eval()\n",
        "        target_actions = self.target_actor.forward(new_state)\n",
        "        critic_value_ = self.target_critic.forward(new_state, target_actions)\n",
        "        critic_value = self.critic.forward(state, action)\n",
        "\n",
        "        target = []\n",
        "        for j in range(self.batch_size):\n",
        "            target.append(reward[j] + self.gamma*critic_value_[j]*done[j])\n",
        "        target = T.tensor(target).to(self.critic.device)\n",
        "        target = target.view(self.batch_size, 1)\n",
        "\n",
        "        self.critic.train()\n",
        "        self.critic.optimizer.zero_grad()\n",
        "        critic_loss = F.mse_loss(target, critic_value)\n",
        "        critic_loss.backward()\n",
        "        self.critic.optimizer.step()\n",
        "\n",
        "        self.critic.eval()\n",
        "        self.actor.optimizer.zero_grad()\n",
        "        mu = self.actor.forward(state)\n",
        "        self.actor.train()\n",
        "        actor_loss = -self.critic.forward(state, mu)\n",
        "        actor_loss = T.mean(actor_loss)\n",
        "        actor_loss.backward()\n",
        "        self.actor.optimizer.step()\n",
        "\n",
        "        self.update_network_parameters()\n",
        "\n",
        "    def update_network_parameters(self, tau=None):\n",
        "        if tau is None:\n",
        "            tau = self.tau\n",
        "\n",
        "        actor_params = self.actor.named_parameters()\n",
        "        critic_params = self.critic.named_parameters()\n",
        "        target_actor_params = self.target_actor.named_parameters()\n",
        "        target_critic_params = self.target_critic.named_parameters()\n",
        "\n",
        "        critic_state_dict = dict(critic_params)\n",
        "        actor_state_dict = dict(actor_params)\n",
        "        target_critic_dict = dict(target_critic_params)\n",
        "        target_actor_dict = dict(target_actor_params)\n",
        "\n",
        "        for name in critic_state_dict:\n",
        "            critic_state_dict[name] = tau*critic_state_dict[name].clone() + \\\n",
        "                                      (1-tau)*target_critic_dict[name].clone()\n",
        "\n",
        "        self.target_critic.load_state_dict(critic_state_dict)\n",
        "\n",
        "        for name in actor_state_dict:\n",
        "            actor_state_dict[name] = tau*actor_state_dict[name].clone() + \\\n",
        "                                      (1-tau)*target_actor_dict[name].clone()\n",
        "        self.target_actor.load_state_dict(actor_state_dict)\n",
        "\n",
        "\n",
        "    def save_models(self):\n",
        "        self.actor.save_checkpoint()\n",
        "        self.target_actor.save_checkpoint()\n",
        "        self.critic.save_checkpoint()\n",
        "        self.target_critic.save_checkpoint()\n",
        "\n",
        "    def load_models(self):\n",
        "        self.actor.load_checkpoint()\n",
        "        self.target_actor.load_checkpoint()\n",
        "        self.critic.load_checkpoint()\n",
        "        self.target_critic.load_checkpoint()\n",
        "\n",
        "    def check_actor_params(self):\n",
        "        current_actor_params = self.actor.named_parameters()\n",
        "        current_actor_dict = dict(current_actor_params)\n",
        "        original_actor_dict = dict(self.original_actor.named_parameters())\n",
        "        original_critic_dict = dict(self.original_critic.named_parameters())\n",
        "        current_critic_params = self.critic.named_parameters()\n",
        "        current_critic_dict = dict(current_critic_params)\n",
        "        print('Checking Actor parameters')\n",
        "\n",
        "        for param in current_actor_dict:\n",
        "            print(param, T.equal(original_actor_dict[param], current_actor_dict[param]))\n",
        "        print('Checking critic parameters')\n",
        "        for param in current_critic_dict:\n",
        "            print(param, T.equal(original_critic_dict[param], current_critic_dict[param]))\n",
        "        input()\n",
        "\n"
      ],
      "execution_count": 11,
      "outputs": []
    },
    {
      "cell_type": "markdown",
      "metadata": {
        "id": "Gtttjpd4fnI-"
      },
      "source": [
        "# Experiments"
      ]
    },
    {
      "cell_type": "code",
      "metadata": {
        "id": "XcMVrHqeflvq"
      },
      "source": [
        "chkpt_dir = 'experiment_out'\n",
        "make_dir(chkpt_dir)"
      ],
      "execution_count": 12,
      "outputs": []
    },
    {
      "cell_type": "code",
      "metadata": {
        "id": "I8nnJDwkfVHL"
      },
      "source": [
        "env = gym.make('LunarLanderContinuous-v2')\n",
        "agent = Agent(alpha=0.000025, beta=0.00025, input_dims=[8], tau=0.001, env=env,\n",
        "              batch_size=64,  layer1_size=400, layer2_size=300, n_actions=2, chkpt_dir=chkpt_dir)\n",
        "\n",
        "#agent.load_models()\n",
        "np.random.seed(0)"
      ],
      "execution_count": 13,
      "outputs": []
    },
    {
      "cell_type": "code",
      "metadata": {
        "colab": {
          "base_uri": "https://localhost:8080/",
          "height": 990
        },
        "id": "ByodIV2LgWYg",
        "outputId": "7a65b042-112a-4cb9-8925-47875991b59f"
      },
      "source": [
        "score_history = []\n",
        "num_episodes = 40\n",
        "for i in range(40):\n",
        "    obs = env.reset()\n",
        "    done = False\n",
        "    score = 0\n",
        "    while not done:\n",
        "        act = agent.choose_action(obs)\n",
        "        new_state, reward, done, info = env.step(act)\n",
        "        agent.remember(obs, act, reward, new_state, int(done))\n",
        "        agent.learn()\n",
        "        score += reward\n",
        "        obs = new_state\n",
        "        #env.render()\n",
        "    score_history.append(score)\n",
        "\n",
        "    #if i % 25 == 0:\n",
        "    #    agent.save_models()\n",
        "\n",
        "    print('episode ', i, 'score %.2f' % score,\n",
        "          'trailing 100 games avg %.3f' % np.mean(score_history[-100:]))\n",
        "\n",
        "filename = 'LunarLander-alpha000025-beta00025-400-300.png'\n",
        "plotLearning(score_history, filename, window=100)"
      ],
      "execution_count": 14,
      "outputs": [
        {
          "output_type": "stream",
          "text": [
            "episode  0 score -243.95 trailing 100 games avg -243.946\n",
            "episode  1 score -397.61 trailing 100 games avg -320.777\n",
            "episode  2 score -722.60 trailing 100 games avg -454.718\n",
            "episode  3 score -147.69 trailing 100 games avg -377.962\n",
            "episode  4 score -155.48 trailing 100 games avg -333.465\n",
            "episode  5 score -118.25 trailing 100 games avg -297.596\n",
            "episode  6 score -94.02 trailing 100 games avg -268.514\n",
            "episode  7 score -81.82 trailing 100 games avg -245.178\n",
            "episode  8 score -174.08 trailing 100 games avg -237.278\n",
            "episode  9 score -205.51 trailing 100 games avg -234.101\n",
            "episode  10 score -127.08 trailing 100 games avg -224.372\n",
            "episode  11 score -242.52 trailing 100 games avg -225.885\n",
            "episode  12 score -283.49 trailing 100 games avg -230.316\n",
            "episode  13 score -217.48 trailing 100 games avg -229.399\n",
            "episode  14 score -318.03 trailing 100 games avg -235.308\n",
            "episode  15 score -319.38 trailing 100 games avg -240.562\n",
            "episode  16 score -525.42 trailing 100 games avg -257.318\n",
            "episode  17 score -268.88 trailing 100 games avg -257.961\n",
            "episode  18 score -191.46 trailing 100 games avg -254.461\n",
            "episode  19 score -379.63 trailing 100 games avg -260.719\n",
            "episode  20 score -648.35 trailing 100 games avg -279.178\n",
            "episode  21 score -742.31 trailing 100 games avg -300.229\n",
            "episode  22 score -227.50 trailing 100 games avg -297.067\n",
            "episode  23 score -452.91 trailing 100 games avg -303.560\n",
            "episode  24 score -256.44 trailing 100 games avg -301.676\n",
            "episode  25 score -657.43 trailing 100 games avg -315.359\n",
            "episode  26 score -360.64 trailing 100 games avg -317.036\n",
            "episode  27 score -473.84 trailing 100 games avg -322.636\n",
            "episode  28 score -255.32 trailing 100 games avg -320.314\n",
            "episode  29 score -406.07 trailing 100 games avg -323.173\n",
            "episode  30 score -244.88 trailing 100 games avg -320.647\n",
            "episode  31 score -302.92 trailing 100 games avg -320.093\n",
            "episode  32 score -457.25 trailing 100 games avg -324.249\n",
            "episode  33 score -358.76 trailing 100 games avg -325.264\n",
            "episode  34 score -307.99 trailing 100 games avg -324.771\n",
            "episode  35 score -236.90 trailing 100 games avg -322.330\n",
            "episode  36 score -247.46 trailing 100 games avg -320.306\n",
            "episode  37 score -204.50 trailing 100 games avg -317.259\n",
            "episode  38 score -211.04 trailing 100 games avg -314.535\n",
            "episode  39 score -343.78 trailing 100 games avg -315.266\n"
          ],
          "name": "stdout"
        },
        {
          "output_type": "display_data",
          "data": {
            "image/png": "[encoded data removed]",
            "text/plain": [
              "<Figure size 432x288 with 1 Axes>"
            ]
          },
          "metadata": {
            "tags": [],
            "needs_background": "light"
          }
        }
      ]
    },
    {
      "cell_type": "code",
      "metadata": {
        "id": "q8illl1FiL-C"
      },
      "source": [
        ""
      ],
      "execution_count": null,
      "outputs": []
    }
  ]
}